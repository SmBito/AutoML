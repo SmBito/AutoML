{
  "nbformat": 4,
  "nbformat_minor": 0,
  "metadata": {
    "colab": {
      "name": "AutoKeras.ipynb",
      "provenance": [],
      "collapsed_sections": []
    },
    "kernelspec": {
      "name": "python3",
      "display_name": "Python 3"
    }
  },
  "cells": [
    {
      "cell_type": "code",
      "metadata": {
        "id": "dbB1LkTKsg9C",
        "colab_type": "code",
        "colab": {}
      },
      "source": [
        "#pip install autokeras"
      ],
      "execution_count": 0,
      "outputs": []
    },
    {
      "cell_type": "code",
      "metadata": {
        "id": "U84XnwerzzFY",
        "colab_type": "code",
        "colab": {
          "base_uri": "https://localhost:8080/",
          "height": 54
        },
        "outputId": "a2941940-9ead-48e4-ff22-e11bd468e265"
      },
      "source": [
        "from autokeras.image.image_supervised import ImageClassifier, load_image_dataset"
      ],
      "execution_count": 1,
      "outputs": [
        {
          "output_type": "stream",
          "text": [
            "Better speed can be achieved with apex installed from https://www.github.com/nvidia/apex.\n"
          ],
          "name": "stdout"
        }
      ]
    },
    {
      "cell_type": "code",
      "metadata": {
        "id": "LI6CQP9Pzgtd",
        "colab_type": "code",
        "outputId": "f05e48c0-07ed-4b60-c14d-8028992ec3fe",
        "colab": {
          "base_uri": "https://localhost:8080/",
          "height": 74
        }
      },
      "source": [
        "from google.colab import drive\n",
        "drive.mount('/content/drive')"
      ],
      "execution_count": 2,
      "outputs": [
        {
          "output_type": "stream",
          "text": [
            "Mounted at /content/drive\n"
          ],
          "name": "stdout"
        }
      ]
    },
    {
      "cell_type": "code",
      "metadata": {
        "id": "_hTrx-Nwv96X",
        "colab_type": "code",
        "colab": {}
      },
      "source": [
        "train_path =        'drive/My Drive/Colab Notebooks/datasets/DogsCats/dogsCats128rgb_train'\n",
        "train_labels =      'drive/My Drive/Colab Notebooks/datasets/DogsCats/dogsCats_train.csv'\n",
        "\n",
        "validation_path =   'drive/My Drive/Colab Notebooks/datasets/DogsCats/dogsCats128rgb_val'\n",
        "validation_labels = 'drive/My Drive/Colab Notebooks/datasets/DogsCats/dogsCats_val.csv'"
      ],
      "execution_count": 0,
      "outputs": []
    },
    {
      "cell_type": "code",
      "metadata": {
        "id": "exq8K5Hcv-kb",
        "colab_type": "code",
        "outputId": "d5fb5e75-c514-4327-a68c-41c442deeb13",
        "colab": {
          "base_uri": "https://localhost:8080/",
          "height": 94
        }
      },
      "source": [
        "from os import listdir\n",
        "from os.path import isfile, join\n",
        "files = [f for f in listdir(train_path) if isfile(join(train_path,f))]\n",
        "print(files[:4])"
      ],
      "execution_count": 8,
      "outputs": [
        {
          "output_type": "stream",
          "text": [
            "['cat.5245.jpg', 'cat.3634.jpg', 'dog.2068.jpg', 'dog.1561.jpg']\n"
          ],
          "name": "stdout"
        }
      ]
    },
    {
      "cell_type": "code",
      "metadata": {
        "id": "SKOQkReWjIdK",
        "colab_type": "code",
        "colab": {
          "base_uri": "https://localhost:8080/",
          "height": 71
        },
        "outputId": "9b98c6d5-e509-40f0-d6f3-447c97567a0c"
      },
      "source": [
        "x_train, y_train = load_image_dataset(csv_file_path = train_labels,\n",
        "                                    images_path = train_path)\n",
        "print(x_train.shape)\n",
        "print(y_train.shape)"
      ],
      "execution_count": 10,
      "outputs": [
        {
          "output_type": "stream",
          "text": [
            "(20000, 128, 128, 3)\n",
            "(20000,)\n"
          ],
          "name": "stdout"
        }
      ]
    },
    {
      "cell_type": "code",
      "metadata": {
        "id": "49slXFAzwFRH",
        "colab_type": "code",
        "colab": {
          "base_uri": "https://localhost:8080/",
          "height": 113
        },
        "outputId": "a05556ab-ae1c-465c-e8b3-7366e3e3449f"
      },
      "source": [
        "x_val, y_val = load_image_dataset(csv_file_path = validation_labels,\n",
        "                                  images_path = validation_path)\n",
        "\n",
        "print(x_val.shape)\n",
        "print(y_val.shape)"
      ],
      "execution_count": 17,
      "outputs": [
        {
          "output_type": "stream",
          "text": [
            "(5000, 128, 128, 3)\n",
            "(5000,)\n"
          ],
          "name": "stdout"
        }
      ]
    },
    {
      "cell_type": "code",
      "metadata": {
        "id": "S6KQMxwP6Nak",
        "colab_type": "code",
        "colab": {}
      },
      "source": [
        ""
      ],
      "execution_count": 0,
      "outputs": []
    }
  ]
}